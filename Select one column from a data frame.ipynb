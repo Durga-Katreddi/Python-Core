{
 "cells": [
  {
   "cell_type": "code",
   "execution_count": 1,
   "id": "9c5ee690",
   "metadata": {},
   "outputs": [],
   "source": [
    "import pandas as pd"
   ]
  },
  {
   "cell_type": "code",
   "execution_count": 6,
   "id": "fcdef9ff",
   "metadata": {},
   "outputs": [
    {
     "data": {
      "text/html": [
       "<div>\n",
       "<style scoped>\n",
       "    .dataframe tbody tr th:only-of-type {\n",
       "        vertical-align: middle;\n",
       "    }\n",
       "\n",
       "    .dataframe tbody tr th {\n",
       "        vertical-align: top;\n",
       "    }\n",
       "\n",
       "    .dataframe thead th {\n",
       "        text-align: right;\n",
       "    }\n",
       "</style>\n",
       "<table border=\"1\" class=\"dataframe\">\n",
       "  <thead>\n",
       "    <tr style=\"text-align: right;\">\n",
       "      <th></th>\n",
       "      <th>Year</th>\n",
       "      <th>Industry_aggregation_NZSIOC</th>\n",
       "      <th>Industry_code_NZSIOC</th>\n",
       "      <th>Industry_name_NZSIOC</th>\n",
       "      <th>Units</th>\n",
       "      <th>Variable_code</th>\n",
       "      <th>Variable_name</th>\n",
       "      <th>Variable_category</th>\n",
       "      <th>Value</th>\n",
       "      <th>Industry_code_ANZSIC06</th>\n",
       "    </tr>\n",
       "  </thead>\n",
       "  <tbody>\n",
       "    <tr>\n",
       "      <th>0</th>\n",
       "      <td>2021.0</td>\n",
       "      <td>Level 1</td>\n",
       "      <td>99999.0</td>\n",
       "      <td>All industries</td>\n",
       "      <td>Dollars (millions)</td>\n",
       "      <td>H01</td>\n",
       "      <td>Total income</td>\n",
       "      <td>Financial performance</td>\n",
       "      <td>7,57,504</td>\n",
       "      <td>ANZSIC06 divisions A-S (excluding classes K633...</td>\n",
       "    </tr>\n",
       "    <tr>\n",
       "      <th>1</th>\n",
       "      <td>2021.0</td>\n",
       "      <td>Level 1</td>\n",
       "      <td>99999.0</td>\n",
       "      <td>All industries</td>\n",
       "      <td>Dollars (millions)</td>\n",
       "      <td>H04</td>\n",
       "      <td>Sales, government funding, grants and subsidies</td>\n",
       "      <td>Financial performance</td>\n",
       "      <td>6,74,890</td>\n",
       "      <td>ANZSIC06 divisions A-S (excluding classes K633...</td>\n",
       "    </tr>\n",
       "    <tr>\n",
       "      <th>2</th>\n",
       "      <td>2021.0</td>\n",
       "      <td>Level 1</td>\n",
       "      <td>99999.0</td>\n",
       "      <td>All industries</td>\n",
       "      <td>Dollars (millions)</td>\n",
       "      <td>H05</td>\n",
       "      <td>Interest, dividends and donations</td>\n",
       "      <td>Financial performance</td>\n",
       "      <td>49,593</td>\n",
       "      <td>ANZSIC06 divisions A-S (excluding classes K633...</td>\n",
       "    </tr>\n",
       "    <tr>\n",
       "      <th>3</th>\n",
       "      <td>2021.0</td>\n",
       "      <td>Level 1</td>\n",
       "      <td>99999.0</td>\n",
       "      <td>All industries</td>\n",
       "      <td>Dollars (millions)</td>\n",
       "      <td>H07</td>\n",
       "      <td>Non-operating income</td>\n",
       "      <td>Financial performance</td>\n",
       "      <td>33,020</td>\n",
       "      <td>ANZSIC06 divisions A-S (excluding classes K633...</td>\n",
       "    </tr>\n",
       "    <tr>\n",
       "      <th>4</th>\n",
       "      <td>2021.0</td>\n",
       "      <td>Level 1</td>\n",
       "      <td>99999.0</td>\n",
       "      <td>All industries</td>\n",
       "      <td>Dollars (millions)</td>\n",
       "      <td>H08</td>\n",
       "      <td>Total expenditure</td>\n",
       "      <td>Financial performance</td>\n",
       "      <td>6,54,404</td>\n",
       "      <td>ANZSIC06 divisions A-S (excluding classes K633...</td>\n",
       "    </tr>\n",
       "  </tbody>\n",
       "</table>\n",
       "</div>"
      ],
      "text/plain": [
       "     Year Industry_aggregation_NZSIOC  Industry_code_NZSIOC  \\\n",
       "0  2021.0                     Level 1               99999.0   \n",
       "1  2021.0                     Level 1               99999.0   \n",
       "2  2021.0                     Level 1               99999.0   \n",
       "3  2021.0                     Level 1               99999.0   \n",
       "4  2021.0                     Level 1               99999.0   \n",
       "\n",
       "  Industry_name_NZSIOC               Units Variable_code  \\\n",
       "0       All industries  Dollars (millions)           H01   \n",
       "1       All industries  Dollars (millions)           H04   \n",
       "2       All industries  Dollars (millions)           H05   \n",
       "3       All industries  Dollars (millions)           H07   \n",
       "4       All industries  Dollars (millions)           H08   \n",
       "\n",
       "                                     Variable_name      Variable_category  \\\n",
       "0                                     Total income  Financial performance   \n",
       "1  Sales, government funding, grants and subsidies  Financial performance   \n",
       "2                Interest, dividends and donations  Financial performance   \n",
       "3                             Non-operating income  Financial performance   \n",
       "4                                Total expenditure  Financial performance   \n",
       "\n",
       "      Value                             Industry_code_ANZSIC06  \n",
       "0  7,57,504  ANZSIC06 divisions A-S (excluding classes K633...  \n",
       "1  6,74,890  ANZSIC06 divisions A-S (excluding classes K633...  \n",
       "2    49,593  ANZSIC06 divisions A-S (excluding classes K633...  \n",
       "3    33,020  ANZSIC06 divisions A-S (excluding classes K633...  \n",
       "4  6,54,404  ANZSIC06 divisions A-S (excluding classes K633...  "
      ]
     },
     "execution_count": 6,
     "metadata": {},
     "output_type": "execute_result"
    }
   ],
   "source": [
    "s = pd.read_csv('Annual_survey.csv')\n",
    "s.head(5)"
   ]
  },
  {
   "cell_type": "code",
   "execution_count": 7,
   "id": "10067157",
   "metadata": {},
   "outputs": [
    {
     "data": {
      "text/plain": [
       "0        2021.0\n",
       "1        2021.0\n",
       "2        2021.0\n",
       "3        2021.0\n",
       "4        2021.0\n",
       "          ...  \n",
       "41704       NaN\n",
       "41705       NaN\n",
       "41706       NaN\n",
       "41707       NaN\n",
       "41708       NaN\n",
       "Name: Year, Length: 41709, dtype: float64"
      ]
     },
     "execution_count": 7,
     "metadata": {},
     "output_type": "execute_result"
    }
   ],
   "source": [
    "s.Year  #the output is a series"
   ]
  },
  {
   "cell_type": "code",
   "execution_count": 8,
   "id": "5d0c2edc",
   "metadata": {},
   "outputs": [],
   "source": [
    "#s.columnName # this doesnot work when name have spaces"
   ]
  },
  {
   "cell_type": "code",
   "execution_count": 11,
   "id": "27b88f89",
   "metadata": {},
   "outputs": [
    {
     "data": {
      "text/plain": [
       "0        2021.0\n",
       "1        2021.0\n",
       "2        2021.0\n",
       "3        2021.0\n",
       "4        2021.0\n",
       "          ...  \n",
       "41704       NaN\n",
       "41705       NaN\n",
       "41706       NaN\n",
       "41707       NaN\n",
       "41708       NaN\n",
       "Name: Year, Length: 41709, dtype: float64"
      ]
     },
     "execution_count": 11,
     "metadata": {},
     "output_type": "execute_result"
    }
   ],
   "source": [
    "#recommended\n",
    "s[\"Year\"]"
   ]
  },
  {
   "cell_type": "code",
   "execution_count": 12,
   "id": "9f609ea7",
   "metadata": {},
   "outputs": [
    {
     "data": {
      "text/plain": [
       "0        Dollars (millions)\n",
       "1        Dollars (millions)\n",
       "2        Dollars (millions)\n",
       "3        Dollars (millions)\n",
       "4        Dollars (millions)\n",
       "                ...        \n",
       "41704                   NaN\n",
       "41705                   NaN\n",
       "41706                   NaN\n",
       "41707                   NaN\n",
       "41708                   NaN\n",
       "Name: Units, Length: 41709, dtype: object"
      ]
     },
     "execution_count": 12,
     "metadata": {},
     "output_type": "execute_result"
    }
   ],
   "source": [
    "s['Units']"
   ]
  },
  {
   "cell_type": "code",
   "execution_count": 13,
   "id": "4836c6ea",
   "metadata": {},
   "outputs": [
    {
     "data": {
      "text/plain": [
       "0    Dollars (millions)\n",
       "1    Dollars (millions)\n",
       "2    Dollars (millions)\n",
       "3    Dollars (millions)\n",
       "4    Dollars (millions)\n",
       "5    Dollars (millions)\n",
       "6    Dollars (millions)\n",
       "Name: Units, dtype: object"
      ]
     },
     "execution_count": 13,
     "metadata": {},
     "output_type": "execute_result"
    }
   ],
   "source": [
    "s['Units'].head(7)"
   ]
  },
  {
   "cell_type": "code",
   "execution_count": 14,
   "id": "742f6a5f",
   "metadata": {},
   "outputs": [
    {
     "data": {
      "text/plain": [
       "array(['Dollars (millions)', 'Dollars (millions)', 'Dollars (millions)',\n",
       "       'Dollars (millions)', 'Dollars (millions)', 'Dollars (millions)',\n",
       "       'Dollars (millions)'], dtype=object)"
      ]
     },
     "execution_count": 14,
     "metadata": {},
     "output_type": "execute_result"
    }
   ],
   "source": [
    "s['Units'].head(7).values"
   ]
  },
  {
   "cell_type": "code",
   "execution_count": null,
   "id": "c73ec3f3",
   "metadata": {},
   "outputs": [],
   "source": []
  }
 ],
 "metadata": {
  "kernelspec": {
   "display_name": "Python 3 (ipykernel)",
   "language": "python",
   "name": "python3"
  },
  "language_info": {
   "codemirror_mode": {
    "name": "ipython",
    "version": 3
   },
   "file_extension": ".py",
   "mimetype": "text/x-python",
   "name": "python",
   "nbconvert_exporter": "python",
   "pygments_lexer": "ipython3",
   "version": "3.10.5"
  }
 },
 "nbformat": 4,
 "nbformat_minor": 5
}
