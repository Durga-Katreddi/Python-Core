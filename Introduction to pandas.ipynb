{
 "cells": [
  {
   "cell_type": "code",
   "execution_count": null,
   "id": "e3551f7c-593c-4c20-886a-a0f4877e46ab",
   "metadata": {},
   "outputs": [],
   "source": [
    "#series is a single direction od data\n",
    "#2d consists of rows and columns\n",
    "#we need the number of reference point to extract given point\n",
    "#in 2d we need two points of reference rows, colmns\n",
    "#dataframe 2d"
   ]
  }
 ],
 "metadata": {
  "kernelspec": {
   "display_name": "Python 3 (ipykernel)",
   "language": "python",
   "name": "python3"
  },
  "language_info": {
   "codemirror_mode": {
    "name": "ipython",
    "version": 3
   },
   "file_extension": ".py",
   "mimetype": "text/x-python",
   "name": "python",
   "nbconvert_exporter": "python",
   "pygments_lexer": "ipython3",
   "version": "3.10.5"
  }
 },
 "nbformat": 4,
 "nbformat_minor": 5
}
