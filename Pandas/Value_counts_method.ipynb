{
 "cells": [
  {
   "cell_type": "code",
   "execution_count": 1,
   "id": "2af97f8e",
   "metadata": {},
   "outputs": [],
   "source": [
    "import pandas as pd"
   ]
  },
  {
   "cell_type": "code",
   "execution_count": 3,
   "id": "57dcc68b",
   "metadata": {},
   "outputs": [
    {
     "data": {
      "text/html": [
       "<div>\n",
       "<style scoped>\n",
       "    .dataframe tbody tr th:only-of-type {\n",
       "        vertical-align: middle;\n",
       "    }\n",
       "\n",
       "    .dataframe tbody tr th {\n",
       "        vertical-align: top;\n",
       "    }\n",
       "\n",
       "    .dataframe thead th {\n",
       "        text-align: right;\n",
       "    }\n",
       "</style>\n",
       "<table border=\"1\" class=\"dataframe\">\n",
       "  <thead>\n",
       "    <tr style=\"text-align: right;\">\n",
       "      <th></th>\n",
       "      <th>Year</th>\n",
       "      <th>Industry_aggregation_NZSIOC</th>\n",
       "      <th>Industry_code_NZSIOC</th>\n",
       "      <th>Industry_name_NZSIOC</th>\n",
       "      <th>Units</th>\n",
       "      <th>Variable_code</th>\n",
       "      <th>Variable_name</th>\n",
       "      <th>Variable_category</th>\n",
       "      <th>Value</th>\n",
       "      <th>Industry_code_ANZSIC06</th>\n",
       "    </tr>\n",
       "  </thead>\n",
       "  <tbody>\n",
       "    <tr>\n",
       "      <th>0</th>\n",
       "      <td>2021.0</td>\n",
       "      <td>Level 1</td>\n",
       "      <td>99999.0</td>\n",
       "      <td>All industries</td>\n",
       "      <td>Dollars (millions)</td>\n",
       "      <td>H01</td>\n",
       "      <td>Total income</td>\n",
       "      <td>Financial performance</td>\n",
       "      <td>7,57,504</td>\n",
       "      <td>ANZSIC06 divisions A-S (excluding classes K633...</td>\n",
       "    </tr>\n",
       "    <tr>\n",
       "      <th>1</th>\n",
       "      <td>2021.0</td>\n",
       "      <td>Level 1</td>\n",
       "      <td>99999.0</td>\n",
       "      <td>All industries</td>\n",
       "      <td>Dollars (millions)</td>\n",
       "      <td>H04</td>\n",
       "      <td>Sales, government funding, grants and subsidies</td>\n",
       "      <td>Financial performance</td>\n",
       "      <td>6,74,890</td>\n",
       "      <td>ANZSIC06 divisions A-S (excluding classes K633...</td>\n",
       "    </tr>\n",
       "    <tr>\n",
       "      <th>2</th>\n",
       "      <td>2021.0</td>\n",
       "      <td>Level 1</td>\n",
       "      <td>99999.0</td>\n",
       "      <td>All industries</td>\n",
       "      <td>Dollars (millions)</td>\n",
       "      <td>H05</td>\n",
       "      <td>Interest, dividends and donations</td>\n",
       "      <td>Financial performance</td>\n",
       "      <td>49,593</td>\n",
       "      <td>ANZSIC06 divisions A-S (excluding classes K633...</td>\n",
       "    </tr>\n",
       "    <tr>\n",
       "      <th>3</th>\n",
       "      <td>2021.0</td>\n",
       "      <td>Level 1</td>\n",
       "      <td>99999.0</td>\n",
       "      <td>All industries</td>\n",
       "      <td>Dollars (millions)</td>\n",
       "      <td>H07</td>\n",
       "      <td>Non-operating income</td>\n",
       "      <td>Financial performance</td>\n",
       "      <td>33,020</td>\n",
       "      <td>ANZSIC06 divisions A-S (excluding classes K633...</td>\n",
       "    </tr>\n",
       "    <tr>\n",
       "      <th>4</th>\n",
       "      <td>2021.0</td>\n",
       "      <td>Level 1</td>\n",
       "      <td>99999.0</td>\n",
       "      <td>All industries</td>\n",
       "      <td>Dollars (millions)</td>\n",
       "      <td>H08</td>\n",
       "      <td>Total expenditure</td>\n",
       "      <td>Financial performance</td>\n",
       "      <td>6,54,404</td>\n",
       "      <td>ANZSIC06 divisions A-S (excluding classes K633...</td>\n",
       "    </tr>\n",
       "  </tbody>\n",
       "</table>\n",
       "</div>"
      ],
      "text/plain": [
       "     Year Industry_aggregation_NZSIOC  Industry_code_NZSIOC  \\\n",
       "0  2021.0                     Level 1               99999.0   \n",
       "1  2021.0                     Level 1               99999.0   \n",
       "2  2021.0                     Level 1               99999.0   \n",
       "3  2021.0                     Level 1               99999.0   \n",
       "4  2021.0                     Level 1               99999.0   \n",
       "\n",
       "  Industry_name_NZSIOC               Units Variable_code  \\\n",
       "0       All industries  Dollars (millions)           H01   \n",
       "1       All industries  Dollars (millions)           H04   \n",
       "2       All industries  Dollars (millions)           H05   \n",
       "3       All industries  Dollars (millions)           H07   \n",
       "4       All industries  Dollars (millions)           H08   \n",
       "\n",
       "                                     Variable_name      Variable_category  \\\n",
       "0                                     Total income  Financial performance   \n",
       "1  Sales, government funding, grants and subsidies  Financial performance   \n",
       "2                Interest, dividends and donations  Financial performance   \n",
       "3                             Non-operating income  Financial performance   \n",
       "4                                Total expenditure  Financial performance   \n",
       "\n",
       "      Value                             Industry_code_ANZSIC06  \n",
       "0  7,57,504  ANZSIC06 divisions A-S (excluding classes K633...  \n",
       "1  6,74,890  ANZSIC06 divisions A-S (excluding classes K633...  \n",
       "2    49,593  ANZSIC06 divisions A-S (excluding classes K633...  \n",
       "3    33,020  ANZSIC06 divisions A-S (excluding classes K633...  \n",
       "4  6,54,404  ANZSIC06 divisions A-S (excluding classes K633...  "
      ]
     },
     "execution_count": 3,
     "metadata": {},
     "output_type": "execute_result"
    }
   ],
   "source": [
    "s = pd.read_csv('Annual_survey.csv')\n",
    "s.head()"
   ]
  },
  {
   "cell_type": "code",
   "execution_count": 10,
   "id": "350a7bc7",
   "metadata": {},
   "outputs": [
    {
     "data": {
      "text/plain": [
       "7,57,504     5.263158\n",
       "2,085        5.263158\n",
       "7,30,587     5.263158\n",
       "25,12,677    5.263158\n",
       "1,03,330     5.263158\n",
       "69,127       5.263158\n",
       "68,896       5.263158\n",
       "14,806       5.263158\n",
       "4,52,963     5.263158\n",
       "275          5.263158\n",
       "6,74,890     5.263158\n",
       "1,23,620     5.263158\n",
       "27,801       5.263158\n",
       "6,991        5.263158\n",
       "26,138       5.263158\n",
       "6,54,404     5.263158\n",
       "33,020       5.263158\n",
       "49,593       5.263158\n",
       "5,91,351     5.263158\n",
       "Name: Value, dtype: float64"
      ]
     },
     "execution_count": 10,
     "metadata": {},
     "output_type": "execute_result"
    }
   ],
   "source": [
    "s['Value'].value_counts(normalize = True)*100"
   ]
  },
  {
   "cell_type": "code",
   "execution_count": 11,
   "id": "1108b3a3",
   "metadata": {},
   "outputs": [
    {
     "data": {
      "text/plain": [
       "H01    1\n",
       "H14    1\n",
       "H25    1\n",
       "H24    1\n",
       "H23    1\n",
       "H22    1\n",
       "H21    1\n",
       "H20    1\n",
       "H19    1\n",
       "H13    1\n",
       "H04    1\n",
       "H12    1\n",
       "H11    1\n",
       "H10    1\n",
       "H09    1\n",
       "H08    1\n",
       "H07    1\n",
       "H05    1\n",
       "H26    1\n",
       "Name: Variable_code, dtype: int64"
      ]
     },
     "execution_count": 11,
     "metadata": {},
     "output_type": "execute_result"
    }
   ],
   "source": [
    "s['Variable_code'].value_counts()"
   ]
  },
  {
   "cell_type": "code",
   "execution_count": null,
   "id": "56e3edc1",
   "metadata": {},
   "outputs": [],
   "source": []
  }
 ],
 "metadata": {
  "kernelspec": {
   "display_name": "Python 3 (ipykernel)",
   "language": "python",
   "name": "python3"
  },
  "language_info": {
   "codemirror_mode": {
    "name": "ipython",
    "version": 3
   },
   "file_extension": ".py",
   "mimetype": "text/x-python",
   "name": "python",
   "nbconvert_exporter": "python",
   "pygments_lexer": "ipython3",
   "version": "3.10.5"
  }
 },
 "nbformat": 4,
 "nbformat_minor": 5
}
